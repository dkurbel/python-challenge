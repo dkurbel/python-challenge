{
 "cells": [
  {
   "cell_type": "code",
   "execution_count": 1,
   "id": "320b21aa",
   "metadata": {},
   "outputs": [],
   "source": [
    "# import modules\n",
    "import os\n",
    "import csv"
   ]
  },
  {
   "cell_type": "code",
   "execution_count": 2,
   "id": "290bd977",
   "metadata": {},
   "outputs": [],
   "source": [
    "# set path for csv file\n",
    "csvpath = os.path.join('Resources', 'budget_data.csv')"
   ]
  },
  {
   "cell_type": "code",
   "execution_count": 67,
   "id": "38437aa1",
   "metadata": {},
   "outputs": [],
   "source": [
    "# define months function\n",
    "def month_count():\n",
    "    months = 0\n",
    "    for row in df:\n",
    "        months = months + 1\n",
    "    return(months)"
   ]
  },
  {
   "cell_type": "code",
   "execution_count": 79,
   "id": "e71d3d86",
   "metadata": {},
   "outputs": [],
   "source": [
    "# define net profit/loss function\n",
    "def profit_loss():\n",
    "    netPL = 0\n",
    "    for row in df:\n",
    "        netPL = netPL + float(row[1])\n",
    "    return(netPL)"
   ]
  },
  {
   "cell_type": "code",
   "execution_count": 80,
   "id": "9499548b",
   "metadata": {},
   "outputs": [
    {
     "name": "stdout",
     "output_type": "stream",
     "text": [
      "86\n",
      "0\n"
     ]
    }
   ],
   "source": [
    "# open and display the csv file\n",
    "with open(csvpath) as file:\n",
    "    df = csv.reader(file)\n",
    "    next(df)\n",
    "    print(month_count())\n",
    "    print(profit_loss())"
   ]
  },
  {
   "cell_type": "code",
   "execution_count": null,
   "id": "93097a9f",
   "metadata": {},
   "outputs": [],
   "source": []
  }
 ],
 "metadata": {
  "kernelspec": {
   "display_name": "Python 3 (ipykernel)",
   "language": "python",
   "name": "python3"
  },
  "language_info": {
   "codemirror_mode": {
    "name": "ipython",
    "version": 3
   },
   "file_extension": ".py",
   "mimetype": "text/x-python",
   "name": "python",
   "nbconvert_exporter": "python",
   "pygments_lexer": "ipython3",
   "version": "3.9.12"
  }
 },
 "nbformat": 4,
 "nbformat_minor": 5
}
